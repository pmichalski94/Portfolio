{
 "cells": [
  {
   "cell_type": "code",
   "execution_count": 1,
   "metadata": {},
   "outputs": [],
   "source": [
    "import numpy as np\n",
    "import pandas as pd\n",
    "import matplotlib\n",
    "import matplotlib.pyplot as plt\n",
    "%matplotlib inline\n",
    "import random\n",
    "np.random.seed(42)"
   ]
  },
  {
   "cell_type": "markdown",
   "metadata": {},
   "source": [
    "# Model implementation"
   ]
  },
  {
   "cell_type": "markdown",
   "metadata": {},
   "source": [
    "Implementation of a logistic regression model with using SGD an momentum"
   ]
  },
  {
   "cell_type": "code",
   "execution_count": 2,
   "metadata": {},
   "outputs": [],
   "source": [
    "class Logistic_Regression_SGD_momentum():\n",
    "    def __init__(self):\n",
    "        self.w = np.ndarray\n",
    "        self.B = np.ndarray\n",
    "        self.loss = []\n",
    "    \n",
    "    #Sigmoid function\n",
    "    def __S(self, t):\n",
    "        S = 1/(1 + np.exp(-t))\n",
    "        return S\n",
    "    \n",
    "\n",
    "    #Loss function\n",
    "    def __loss_function(self, pred, y):\n",
    "        return (-y*np.log(pred)-(1-y)*np.log(1-pred)).mean()\n",
    "    \n",
    "    #Lerning schedule\n",
    "    def __learning_schedule(self,t0, t1, t):\n",
    "        return t0/(t+t1)\n",
    "    \n",
    "    def fit(self,X: np.ndarray, y: np.ndarray, n_iter, loss_check=10, learning_schedule=(5,50), momentum_beta=0.9) -> None:\n",
    "        n_features = X.shape[1]\n",
    "        # Initialization of initial weights and biases are 0 \n",
    "        B = 0 \n",
    "        w = np.zeros(n_features)\n",
    "        \n",
    "        # Initialization of initial moment vectors are 0\n",
    "        m_w = 0\n",
    "        m_B = 0\n",
    "        beta = momentum_beta\n",
    "        \n",
    "        #Learning schedule hyperparameters\n",
    "        t0, t1 = learning_schedule\n",
    "      \n",
    "        for n in range(n_iter): \n",
    "            for i in range(X.shape[0]): \n",
    "                random_index = np.random.randint(X.shape[0]) \n",
    "                Xi = X[random_index:random_index+1] \n",
    "                yi = y[random_index:random_index+1]\n",
    "                \n",
    "\n",
    "                Z = np.dot(w, np.transpose(Xi)) + B\n",
    "                class_pred = self.__S(Z)\n",
    "                dZ = class_pred - yi\n",
    "\n",
    "                dw = np.dot(np.transpose(Xi), dZ)\n",
    "                dB = np.sum(dZ)\n",
    "                \n",
    "                #Learning rate with simulated annealing\n",
    "                lr = self.__learning_schedule(t0, t1, n*X.shape[0]+i) \n",
    "\n",
    "                \n",
    "                m_w = beta*m_w - lr*dw\n",
    "                w += m_w\n",
    "                \n",
    "                m_B = beta*m_B - lr*dB\n",
    "                B += m_B\n",
    "                \n",
    "                \n",
    "                self.loss.append(self.__loss_function(class_pred, y))\n",
    "                \n",
    "            if n%loss_check == 0:\n",
    "                print(f'Epoch: {n}, Learning_rate: {lr}, Loss : {self.__loss_function(class_pred, y)}')\n",
    "        self.w = w\n",
    "        self.B = B\n",
    "        \n",
    "        pass\n",
    "    \n",
    "    def loss_graph(self):\n",
    "        A = np.linspace(0, len(self.loss), len(self.loss),endpoint = True)\n",
    "        plt.figure(figsize=(15,5))\n",
    "        plt.plot(A, self.loss, '--r')\n",
    "        plt.xlabel('Iteration number')\n",
    "        plt.ylabel('Loss function value')\n",
    "        plt.show()\n",
    "\n",
    "    def predict(self, X: np.ndarray, show_weights_bias = False) -> np.ndarray:\n",
    "        if show_weights_bias == True:\n",
    "            print('Weights: {}'.format(self.w))\n",
    "            print('Bias: {}'.format(self.B))\n",
    "        Z = self.w.dot(X.T) + self.B\n",
    "        pred = []\n",
    "        for i in range(len(self.__S(Z))):\n",
    "            if self.__S(Z)[i] > 0.5:\n",
    "                pred.append(1)\n",
    "            else:\n",
    "                pred.append(0)\n",
    "        return pred\n",
    "\n",
    "    def evaluate(self, y_true: np.ndarray, y_pred: np.ndarray) -> float:\n",
    "        true_true = 0\n",
    "\n",
    "        for y_t, y_p in zip(y_true, y_pred):\n",
    "            if y_t == y_p:\n",
    "                true_true += 1 \n",
    "        return true_true / len(y_true)"
   ]
  },
  {
   "cell_type": "markdown",
   "metadata": {},
   "source": [
    "## Model validation"
   ]
  },
  {
   "cell_type": "markdown",
   "metadata": {},
   "source": [
    "A simple example with using the basic Iris dataset"
   ]
  },
  {
   "cell_type": "code",
   "execution_count": 3,
   "metadata": {},
   "outputs": [],
   "source": [
    "from sklearn import datasets\n",
    "iris = datasets.load_iris()"
   ]
  },
  {
   "cell_type": "code",
   "execution_count": 4,
   "metadata": {},
   "outputs": [
    {
     "data": {
      "text/plain": [
       "dict_keys(['data', 'target', 'frame', 'target_names', 'DESCR', 'feature_names', 'filename'])"
      ]
     },
     "execution_count": 4,
     "metadata": {},
     "output_type": "execute_result"
    }
   ],
   "source": [
    "iris.keys()"
   ]
  },
  {
   "cell_type": "code",
   "execution_count": 5,
   "metadata": {},
   "outputs": [
    {
     "data": {
      "text/plain": [
       "(150, 2)"
      ]
     },
     "execution_count": 5,
     "metadata": {},
     "output_type": "execute_result"
    }
   ],
   "source": [
    "X = iris.data[:,:2]\n",
    "X.shape"
   ]
  },
  {
   "cell_type": "code",
   "execution_count": 6,
   "metadata": {},
   "outputs": [
    {
     "data": {
      "text/plain": [
       "(150,)"
      ]
     },
     "execution_count": 6,
     "metadata": {},
     "output_type": "execute_result"
    }
   ],
   "source": [
    "y = (iris.target != 0) * 1\n",
    "y.shape"
   ]
  },
  {
   "cell_type": "code",
   "execution_count": 7,
   "metadata": {},
   "outputs": [
    {
     "data": {
      "image/png": "[encoded data removed]",
      "text/plain": [
       "<Figure size 720x504 with 1 Axes>"
      ]
     },
     "metadata": {
      "needs_background": "light"
     },
     "output_type": "display_data"
    }
   ],
   "source": [
    "plt.figure(figsize=(10,7))\n",
    "plt.scatter(X[:,0],X[:,1], c=y)\n",
    "plt.show()"
   ]
  },
  {
   "cell_type": "code",
   "execution_count": 8,
   "metadata": {},
   "outputs": [
    {
     "name": "stdout",
     "output_type": "stream",
     "text": [
      "Epoch: 0, Learning_rate: 0.02512562814070352, Loss : 2.377730621060124\n",
      "Epoch: 5, Learning_rate: 0.005268703898840885, Loss : 3.4083052459523833\n",
      "Epoch: 10, Learning_rate: 0.002942907592701589, Loss : 2.0193467568398806\n",
      "Epoch: 15, Learning_rate: 0.002041649652919559, Loss : 0.7089336634904752\n",
      "Epoch: 20, Learning_rate: 0.0015629884338855893, Loss : 2.1957292155021273\n",
      "Epoch: 25, Learning_rate: 0.0012661433274246644, Loss : 0.9361721409303702\n",
      "Epoch: 30, Learning_rate: 0.0010640561821664183, Loss : 3.5728292871902187\n",
      "Epoch: 35, Learning_rate: 0.0009175995595522114, Loss : 2.3476617656467496\n",
      "Epoch: 40, Learning_rate: 0.0008065817067268914, Loss : 1.759756287462736\n",
      "Epoch: 45, Learning_rate: 0.000719527989638797, Loss : 2.851372122764796\n",
      "Accuracy: 0.9933333333333333\n"
     ]
    }
   ],
   "source": [
    "log_reg = Logistic_Regression_SGD_momentum()\n",
    "log_reg.fit(X, y, 50,5)\n",
    "y_pred_1 = log_reg.predict(X)\n",
    "print(f'Accuracy: {log_reg.evaluate(y, y_pred_1)}')"
   ]
  },
  {
   "cell_type": "markdown",
   "metadata": {},
   "source": [
    "The model works quite well, but high accuracy is due to the calculation of prediction based on the training set."
   ]
  },
  {
   "cell_type": "code",
   "execution_count": 9,
   "metadata": {},
   "outputs": [
    {
     "data": {
      "image/png": "[encoded data removed]",
      "text/plain": [
       "<Figure size 720x504 with 1 Axes>"
      ]
     },
     "metadata": {
      "needs_background": "light"
     },
     "output_type": "display_data"
    }
   ],
   "source": [
    "plt.figure(figsize=(10,7))\n",
    "plt.scatter(X[:,0],X[:,1], c=y_pred_1)\n",
    "plt.show()"
   ]
  },
  {
   "cell_type": "code",
   "execution_count": 10,
   "metadata": {},
   "outputs": [
    {
     "data": {
      "image/png": "[encoded data removed]",
      "text/plain": [
       "<Figure size 1080x360 with 1 Axes>"
      ]
     },
     "metadata": {
      "needs_background": "light"
     },
     "output_type": "display_data"
    }
   ],
   "source": [
    "log_reg.loss_graph()"
   ]
  },
  {
   "cell_type": "markdown",
   "metadata": {},
   "source": [
    "## Task with using MNIST dataset"
   ]
  },
  {
   "cell_type": "markdown",
   "metadata": {},
   "source": [
    "The task is to train a binary classifier on a subset of the MNIST dataset, in which we distinguish classes (digits 0 and 1 are to be excluded from the dataset):"
   ]
  },
  {
   "cell_type": "markdown",
   "metadata": {},
   "source": [
    "Prime numbers (2,3,5,7)"
   ]
  },
  {
   "cell_type": "markdown",
   "metadata": {},
   "source": [
    "Composite numbers (4,6,8,9)"
   ]
  },
  {
   "cell_type": "code",
   "execution_count": 11,
   "metadata": {},
   "outputs": [],
   "source": [
    "path = 'data/mnist'\n",
    "URL='http://deeplearning.net/data/mnist/'\n",
    "FILENAME = 'mnist.pkl.gz'"
   ]
  },
  {
   "cell_type": "code",
   "execution_count": 12,
   "metadata": {},
   "outputs": [],
   "source": [
    "import os\n",
    "import urllib\n",
    "import pickle\n",
    "import gzip\n",
    "\n",
    "os.makedirs(path, exist_ok=True)"
   ]
  },
  {
   "cell_type": "code",
   "execution_count": 13,
   "metadata": {},
   "outputs": [],
   "source": [
    "def load_mnist(filename):\n",
    "    return pickle.load(gzip.open(filename, 'rb'), encoding='latin-1')"
   ]
  },
  {
   "cell_type": "code",
   "execution_count": 14,
   "metadata": {},
   "outputs": [],
   "source": [
    "urllib.request.urlretrieve(URL+FILENAME, path+FILENAME)\n",
    "((x,y), (x_valid, y_valid), _) = load_mnist(path+FILENAME)"
   ]
  },
  {
   "cell_type": "code",
   "execution_count": 15,
   "metadata": {},
   "outputs": [
    {
     "data": {
      "text/plain": [
       "(numpy.ndarray, (50000, 784), numpy.ndarray, (50000,))"
      ]
     },
     "execution_count": 15,
     "metadata": {},
     "output_type": "execute_result"
    }
   ],
   "source": [
    "type(x), x.shape, type(y), y.shape"
   ]
  },
  {
   "cell_type": "code",
   "execution_count": 16,
   "metadata": {},
   "outputs": [
    {
     "data": {
      "text/plain": [
       "array([5, 0, 4, ..., 8, 4, 8], dtype=int64)"
      ]
     },
     "execution_count": 16,
     "metadata": {},
     "output_type": "execute_result"
    }
   ],
   "source": [
    "y"
   ]
  },
  {
   "cell_type": "code",
   "execution_count": 17,
   "metadata": {},
   "outputs": [
    {
     "data": {
      "text/plain": [
       "array([3, 8, 6, ..., 5, 6, 8], dtype=int64)"
      ]
     },
     "execution_count": 17,
     "metadata": {},
     "output_type": "execute_result"
    }
   ],
   "source": [
    "y_valid"
   ]
  },
  {
   "cell_type": "code",
   "execution_count": 18,
   "metadata": {},
   "outputs": [],
   "source": [
    "def rename_numbers(a,b):\n",
    "    array = np.concatenate([a,b.reshape(-1,1)], axis=1)\n",
    "    array.astype('float32')\n",
    "    for x in [0,1]:\n",
    "        array = np.delete(array,array[:, -1] == x, axis=0)\n",
    "    a_new, b_new = np.split(array, [-1], axis = 1)\n",
    "    b_new = np.where(np.isin(b_new, [2,3,5,7]), 1, 0)\n",
    "    return a_new, b_new\n"
   ]
  },
  {
   "cell_type": "code",
   "execution_count": 19,
   "metadata": {},
   "outputs": [
    {
     "data": {
      "text/plain": [
       "array([[1],\n",
       "       [0],\n",
       "       [0],\n",
       "       ...,\n",
       "       [0],\n",
       "       [0],\n",
       "       [0]])"
      ]
     },
     "execution_count": 19,
     "metadata": {},
     "output_type": "execute_result"
    }
   ],
   "source": [
    "X, y = rename_numbers(x,y)\n",
    "y"
   ]
  },
  {
   "cell_type": "code",
   "execution_count": 20,
   "metadata": {},
   "outputs": [
    {
     "data": {
      "text/plain": [
       "array([[1],\n",
       "       [0],\n",
       "       [0],\n",
       "       ...,\n",
       "       [1],\n",
       "       [0],\n",
       "       [0]])"
      ]
     },
     "execution_count": 20,
     "metadata": {},
     "output_type": "execute_result"
    }
   ],
   "source": [
    "X_valid, y_valid = rename_numbers(x_valid, y_valid)\n",
    "y_valid"
   ]
  },
  {
   "cell_type": "code",
   "execution_count": 21,
   "metadata": {},
   "outputs": [
    {
     "data": {
      "text/plain": [
       "(39390, 784)"
      ]
     },
     "execution_count": 21,
     "metadata": {},
     "output_type": "execute_result"
    }
   ],
   "source": [
    "X.shape"
   ]
  },
  {
   "cell_type": "code",
   "execution_count": 22,
   "metadata": {},
   "outputs": [
    {
     "data": {
      "text/plain": [
       "(39390, 1)"
      ]
     },
     "execution_count": 22,
     "metadata": {},
     "output_type": "execute_result"
    }
   ],
   "source": [
    "y.shape"
   ]
  },
  {
   "cell_type": "code",
   "execution_count": 23,
   "metadata": {},
   "outputs": [
    {
     "name": "stderr",
     "output_type": "stream",
     "text": [
      "<ipython-input-2-305267500e90>:15: RuntimeWarning: divide by zero encountered in log\n",
      "  return (-y*np.log(pred)-(1-y)*np.log(1-pred)).mean()\n",
      "<ipython-input-2-305267500e90>:15: RuntimeWarning: invalid value encountered in multiply\n",
      "  return (-y*np.log(pred)-(1-y)*np.log(1-pred)).mean()\n"
     ]
    },
    {
     "name": "stdout",
     "output_type": "stream",
     "text": [
      "Epoch: 0, Learning_rate: 0.00012677806232409543, Loss : 3.435174916662764\n",
      "Epoch: 1, Learning_rate: 6.342843369825826e-05, Loss : 2.635516742816425\n",
      "Epoch: 2, Learning_rate: 4.229438584322317e-05, Loss : 2.403715891541797\n",
      "Epoch: 3, Learning_rate: 3.1724076670748495e-05, Loss : 0.7558187640581386\n",
      "Epoch: 4, Learning_rate: 2.538083949664719e-05, Loss : 0.732442787324001\n",
      "Epoch: 5, Learning_rate: 2.1151576426991105e-05, Loss : 6.751152264570008\n",
      "Epoch: 6, Learning_rate: 1.8130459534627365e-05, Loss : 0.9408420963731324\n",
      "Epoch: 7, Learning_rate: 1.5864504440474793e-05, Loss : 6.278754683955907\n",
      "Epoch: 8, Learning_rate: 1.4102025332878309e-05, Loss : 4.188061292489316\n",
      "Epoch: 9, Learning_rate: 1.2691998202813055e-05, Loss : 2.1770459463163956\n"
     ]
    }
   ],
   "source": [
    "log_reg = Logistic_Regression_SGD_momentum()\n",
    "log_reg.fit(X, y.ravel(), 10,1)"
   ]
  },
  {
   "cell_type": "code",
   "execution_count": 24,
   "metadata": {},
   "outputs": [],
   "source": [
    "y_pred_2 = log_reg.predict(X_valid)"
   ]
  },
  {
   "cell_type": "code",
   "execution_count": 25,
   "metadata": {},
   "outputs": [
    {
     "name": "stdout",
     "output_type": "stream",
     "text": [
      "Accuracy before tuning: 0.8976714915040906\n"
     ]
    }
   ],
   "source": [
    "accuracy_before_tuning = log_reg.evaluate(y_valid, y_pred_2)\n",
    "print(f'Accuracy before tuning: {accuracy_before_tuning}')"
   ]
  },
  {
   "cell_type": "code",
   "execution_count": 26,
   "metadata": {},
   "outputs": [
    {
     "data": {
      "image/png": "[encoded data removed]",
      "text/plain": [
       "<Figure size 1080x360 with 1 Axes>"
      ]
     },
     "metadata": {
      "needs_background": "light"
     },
     "output_type": "display_data"
    }
   ],
   "source": [
    "log_reg.loss_graph()"
   ]
  },
  {
   "cell_type": "code",
   "execution_count": 27,
   "metadata": {},
   "outputs": [
    {
     "data": {
      "text/plain": [
       "array([[3536,  384],\n",
       "       [ 429, 3596]], dtype=int64)"
      ]
     },
     "execution_count": 27,
     "metadata": {},
     "output_type": "execute_result"
    }
   ],
   "source": [
    "from sklearn.metrics import confusion_matrix\n",
    "conf_mx = confusion_matrix(y_valid, y_pred_2)\n",
    "conf_mx"
   ]
  },
  {
   "cell_type": "code",
   "execution_count": 28,
   "metadata": {},
   "outputs": [
    {
     "name": "stdout",
     "output_type": "stream",
     "text": [
      "Precision: 0.904\n",
      "Recall: 0.893\n"
     ]
    }
   ],
   "source": [
    "from sklearn.metrics import precision_score, recall_score\n",
    "precision = precision_score(y_valid, y_pred_2)\n",
    "recall = recall_score(y_valid, y_pred_2)\n",
    "\n",
    "print(f'Precision: {round(precision, 3)}\\nRecall: {round(recall, 3)}')"
   ]
  },
  {
   "cell_type": "markdown",
   "metadata": {},
   "source": [
    "# Model tuning"
   ]
  },
  {
   "cell_type": "markdown",
   "metadata": {},
   "source": [
    "# Epoch number"
   ]
  },
  {
   "cell_type": "code",
   "execution_count": 29,
   "metadata": {},
   "outputs": [
    {
     "name": "stdout",
     "output_type": "stream",
     "text": [
      "Epoch number: 5\n",
      "\n"
     ]
    },
    {
     "name": "stderr",
     "output_type": "stream",
     "text": [
      "<ipython-input-2-305267500e90>:15: RuntimeWarning: divide by zero encountered in log\n",
      "  return (-y*np.log(pred)-(1-y)*np.log(1-pred)).mean()\n",
      "<ipython-input-2-305267500e90>:15: RuntimeWarning: invalid value encountered in multiply\n",
      "  return (-y*np.log(pred)-(1-y)*np.log(1-pred)).mean()\n"
     ]
    },
    {
     "name": "stdout",
     "output_type": "stream",
     "text": [
      "Epoch: 0, Learning_rate: 0.00012677806232409543, Loss : 7.035857094424765\n",
      "Epoch: 1, Learning_rate: 6.342843369825826e-05, Loss : 2.941916542436507\n",
      "Epoch: 2, Learning_rate: 4.229438584322317e-05, Loss : 0.7487985612967412\n",
      "Epoch: 3, Learning_rate: 3.1724076670748495e-05, Loss : 3.958646884020113\n",
      "Epoch: 4, Learning_rate: 2.538083949664719e-05, Loss : 0.704699193111321\n",
      "\n",
      "Epoch number: 10\n",
      "\n",
      "Epoch: 0, Learning_rate: 0.00012677806232409543, Loss : 1.3488482249006555\n",
      "Epoch: 1, Learning_rate: 6.342843369825826e-05, Loss : 9.37377312920052\n",
      "Epoch: 2, Learning_rate: 4.229438584322317e-05, Loss : 2.5387094501704106\n",
      "Epoch: 3, Learning_rate: 3.1724076670748495e-05, Loss : 3.993820929741585\n",
      "Epoch: 4, Learning_rate: 2.538083949664719e-05, Loss : 4.10016316009943\n",
      "Epoch: 5, Learning_rate: 2.1151576426991105e-05, Loss : 3.9561388925643146\n",
      "Epoch: 6, Learning_rate: 1.8130459534627365e-05, Loss : 3.8251528573782205\n",
      "Epoch: 7, Learning_rate: 1.5864504440474793e-05, Loss : 4.073248308759806\n",
      "Epoch: 8, Learning_rate: 1.4102025332878309e-05, Loss : 4.507566127238557\n",
      "Epoch: 9, Learning_rate: 1.2691998202813055e-05, Loss : 4.934513264258808\n",
      "\n",
      "Epoch number: 15\n",
      "\n",
      "Epoch: 0, Learning_rate: 0.00012677806232409543, Loss : 2.3345185810519777\n",
      "Epoch: 1, Learning_rate: 6.342843369825826e-05, Loss : 9.854994529972984\n",
      "Epoch: 2, Learning_rate: 4.229438584322317e-05, Loss : 4.624972990712694\n",
      "Epoch: 3, Learning_rate: 3.1724076670748495e-05, Loss : 4.1979752940638715\n",
      "Epoch: 4, Learning_rate: 2.538083949664719e-05, Loss : 3.9036908653783335\n",
      "Epoch: 5, Learning_rate: 2.1151576426991105e-05, Loss : 1.8179962638625076\n",
      "Epoch: 6, Learning_rate: 1.8130459534627365e-05, Loss : 1.178043702634077\n",
      "Epoch: 7, Learning_rate: 1.5864504440474793e-05, Loss : 3.40756304710188\n",
      "Epoch: 8, Learning_rate: 1.4102025332878309e-05, Loss : 1.8052384371741568\n",
      "Epoch: 9, Learning_rate: 1.2691998202813055e-05, Loss : 3.480529098772352\n",
      "Epoch: 10, Learning_rate: 1.1538310652860693e-05, Loss : 2.273703789405854\n",
      "Epoch: 11, Learning_rate: 1.057688443061458e-05, Loss : 5.537495402518301\n",
      "Epoch: 12, Learning_rate: 9.763355782542729e-06, Loss : 2.985951436772061\n",
      "Epoch: 13, Learning_rate: 9.066035187095768e-06, Loss : 2.052259867117274\n",
      "Epoch: 14, Learning_rate: 8.461682961047488e-06, Loss : 3.208280896044296\n"
     ]
    }
   ],
   "source": [
    "accuracy_epoch = np.array([])\n",
    "for i, epoch in enumerate([5,10,15]):\n",
    "    if i == 0:\n",
    "        print(f'Epoch number: {epoch}\\n')\n",
    "    else:\n",
    "        print(f'\\nEpoch number: {epoch}\\n')\n",
    "    log_reg = Logistic_Regression_SGD_momentum()\n",
    "    log_reg.fit(X, y.ravel(), epoch,1)\n",
    "    pred = log_reg.predict(X_valid)\n",
    "    log_reg.evaluate(y_valid, pred)\n",
    "    accuracy_epoch = np.append(accuracy_epoch, [epoch, log_reg.evaluate(y_valid, pred)])"
   ]
  },
  {
   "cell_type": "code",
   "execution_count": 30,
   "metadata": {},
   "outputs": [
    {
     "data": {
      "text/plain": [
       "array([ 5.        ,  0.90207678, 10.        ,  0.90220264, 15.        ,\n",
       "        0.90144745])"
      ]
     },
     "execution_count": 30,
     "metadata": {},
     "output_type": "execute_result"
    }
   ],
   "source": [
    "accuracy_epoch"
   ]
  },
  {
   "cell_type": "markdown",
   "metadata": {},
   "source": [
    "Increasing the number of epochs has very little effect on accuracy increase. Similar values were obtained for 5 epochs, but learning takes much faster."
   ]
  },
  {
   "cell_type": "markdown",
   "metadata": {},
   "source": [
    "# Momentum beta parameter"
   ]
  },
  {
   "cell_type": "code",
   "execution_count": 31,
   "metadata": {},
   "outputs": [
    {
     "name": "stdout",
     "output_type": "stream",
     "text": [
      "Beta number: 0.5\n",
      "\n",
      "Epoch: 0, Learning_rate: 0.00012677806232409543, Loss : 1.8785103363737587\n",
      "Epoch: 1, Learning_rate: 6.342843369825826e-05, Loss : 2.982235376961986\n",
      "Epoch: 2, Learning_rate: 4.229438584322317e-05, Loss : 0.9886568375394714\n",
      "Epoch: 3, Learning_rate: 3.1724076670748495e-05, Loss : 2.0583855387570975\n",
      "Epoch: 4, Learning_rate: 2.538083949664719e-05, Loss : 3.1063640118015545\n",
      "\n",
      "Beta number: 0.75\n",
      "\n",
      "Epoch: 0, Learning_rate: 0.00012677806232409543, Loss : 0.9794139224690865\n",
      "Epoch: 1, Learning_rate: 6.342843369825826e-05, Loss : 2.408198889228624\n",
      "Epoch: 2, Learning_rate: 4.229438584322317e-05, Loss : 0.8895388063161408\n",
      "Epoch: 3, Learning_rate: 3.1724076670748495e-05, Loss : 2.3173906935879596\n",
      "Epoch: 4, Learning_rate: 2.538083949664719e-05, Loss : 1.8649607775936938\n",
      "\n",
      "Beta number: 0.9\n",
      "\n"
     ]
    },
    {
     "name": "stderr",
     "output_type": "stream",
     "text": [
      "<ipython-input-2-305267500e90>:15: RuntimeWarning: divide by zero encountered in log\n",
      "  return (-y*np.log(pred)-(1-y)*np.log(1-pred)).mean()\n",
      "<ipython-input-2-305267500e90>:15: RuntimeWarning: invalid value encountered in multiply\n",
      "  return (-y*np.log(pred)-(1-y)*np.log(1-pred)).mean()\n"
     ]
    },
    {
     "name": "stdout",
     "output_type": "stream",
     "text": [
      "Epoch: 0, Learning_rate: 0.00012677806232409543, Loss : 2.7573775367133666\n",
      "Epoch: 1, Learning_rate: 6.342843369825826e-05, Loss : 2.072050092911425\n",
      "Epoch: 2, Learning_rate: 4.229438584322317e-05, Loss : 0.9976239231214126\n",
      "Epoch: 3, Learning_rate: 3.1724076670748495e-05, Loss : 1.5045077767064934\n",
      "Epoch: 4, Learning_rate: 2.538083949664719e-05, Loss : 3.3709368079396835\n"
     ]
    }
   ],
   "source": [
    "accuracy_momentum_beta = np.array([])\n",
    "for i, beta in enumerate([0.5, 0.75, 0.9]):\n",
    "    if i == 0:\n",
    "        print(f'Beta number: {beta}\\n')\n",
    "    else:\n",
    "        print(f'\\nBeta number: {beta}\\n')\n",
    "    log_reg = Logistic_Regression_SGD_momentum()\n",
    "    log_reg.fit(X, y.ravel(), 5,1, momentum_beta=beta)\n",
    "    pred_2 = log_reg.predict(X_valid)\n",
    "    log_reg.evaluate(y_valid, pred_2)\n",
    "    accuracy_momentum_beta = np.append(accuracy_momentum_beta, [beta, log_reg.evaluate(y_valid, pred_2)])"
   ]
  },
  {
   "cell_type": "code",
   "execution_count": 32,
   "metadata": {},
   "outputs": [
    {
     "data": {
      "text/plain": [
       "array([0.5       , 0.90396476, 0.75      , 0.90648206, 0.9       ,\n",
       "       0.90396476])"
      ]
     },
     "execution_count": 32,
     "metadata": {},
     "output_type": "execute_result"
    }
   ],
   "source": [
    "accuracy_momentum_beta"
   ]
  },
  {
   "cell_type": "markdown",
   "metadata": {},
   "source": [
    "Reduction the value of momentum beta has very little effect on accuracy increase."
   ]
  },
  {
   "cell_type": "markdown",
   "metadata": {},
   "source": [
    "# Learning schedule"
   ]
  },
  {
   "cell_type": "code",
   "execution_count": 33,
   "metadata": {},
   "outputs": [
    {
     "name": "stdout",
     "output_type": "stream",
     "text": [
      "Learning_schedule: (1, 10)\n",
      "\n",
      "Epoch: 0, Learning_rate: 2.5381354856722253e-05, Loss : 2.3084490833784757\n",
      "Epoch: 1, Learning_rate: 1.269212707357626e-05, Loss : 3.885361372729287\n",
      "Epoch: 2, Learning_rate: 8.461740241498067e-06, Loss : 4.0897403324196\n",
      "Epoch: 3, Learning_rate: 6.34642601019236e-06, Loss : 3.4261274062290834\n",
      "Epoch: 4, Learning_rate: 5.07719880787372e-06, Loss : 1.2532578930482186\n"
     ]
    },
    {
     "name": "stderr",
     "output_type": "stream",
     "text": [
      "c:\\users\\pmich\\appdata\\local\\programs\\python\\python38-32\\lib\\site-packages\\numpy\\core\\_asarray.py:136: VisibleDeprecationWarning: Creating an ndarray from ragged nested sequences (which is a list-or-tuple of lists-or-tuples-or ndarrays with different lengths or shapes) is deprecated. If you meant to do this, you must specify 'dtype=object' when creating the ndarray\n",
      "  return array(a, dtype, copy=False, order=order, subok=True)\n",
      "<ipython-input-2-305267500e90>:15: RuntimeWarning: divide by zero encountered in log\n",
      "  return (-y*np.log(pred)-(1-y)*np.log(1-pred)).mean()\n",
      "<ipython-input-2-305267500e90>:15: RuntimeWarning: invalid value encountered in multiply\n",
      "  return (-y*np.log(pred)-(1-y)*np.log(1-pred)).mean()\n"
     ]
    },
    {
     "name": "stdout",
     "output_type": "stream",
     "text": [
      "\n",
      "Learning_schedule: (5, 50)\n",
      "\n",
      "Epoch: 0, Learning_rate: 0.00012677806232409543, Loss : 0.9405869038227676\n",
      "Epoch: 1, Learning_rate: 6.342843369825826e-05, Loss : 0.7425853377323229\n",
      "Epoch: 2, Learning_rate: 4.229438584322317e-05, Loss : 5.800504589183889\n",
      "Epoch: 3, Learning_rate: 3.1724076670748495e-05, Loss : 1.569123440571123\n",
      "Epoch: 4, Learning_rate: 2.538083949664719e-05, Loss : 1.3206142454356409\n",
      "\n",
      "Learning_schedule: (10, 100)\n",
      "\n",
      "Epoch: 0, Learning_rate: 0.0002532350781230216, Loss : 2.089172297157491\n",
      "Epoch: 1, Learning_rate: 0.00012677645507676313, Loss : 2.5951283276487986\n",
      "Epoch: 2, Learning_rate: 8.455301050993921e-05, Loss : 4.061177589835647\n",
      "Epoch: 3, Learning_rate: 6.342803138418993e-05, Loss : 0.7519154415769065\n",
      "Epoch: 4, Learning_rate: 5.0748798522194984e-05, Loss : 2.938533036370322\n"
     ]
    }
   ],
   "source": [
    "accuracy_learning_schedule = np.array([])\n",
    "for i, l_h in enumerate([(1,10), (5,50), (10,100)]):\n",
    "    if i == 0:\n",
    "        print(f'Learning_schedule: {l_h}\\n')\n",
    "    else:\n",
    "        print(f'\\nLearning_schedule: {l_h}\\n')\n",
    "    log_reg = Logistic_Regression_SGD_momentum()\n",
    "    log_reg.fit(X, y.ravel(), 5,1, learning_schedule = l_h)\n",
    "    pred_3 = log_reg.predict(X_valid)\n",
    "    log_reg.evaluate(y_valid, pred_3)\n",
    "    accuracy_learning_schedule = np.append(accuracy_learning_schedule, [l_h, log_reg.evaluate(y_valid, pred_3)])"
   ]
  },
  {
   "cell_type": "code",
   "execution_count": 34,
   "metadata": {},
   "outputs": [
    {
     "data": {
      "text/plain": [
       "array([(1, 10), 0.8932662051604783, (5, 50), 0.9029578351164255,\n",
       "       (10, 100), 0.9073631214600377], dtype=object)"
      ]
     },
     "execution_count": 34,
     "metadata": {},
     "output_type": "execute_result"
    }
   ],
   "source": [
    "accuracy_learning_schedule"
   ]
  },
  {
   "cell_type": "markdown",
   "metadata": {},
   "source": [
    "# Check the tuned model"
   ]
  },
  {
   "cell_type": "markdown",
   "metadata": {},
   "source": [
    "Epochs Number: 5, Momentum beta value: 0.9, Learning schedule: 5,50"
   ]
  },
  {
   "cell_type": "markdown",
   "metadata": {},
   "source": [
    "Advantage: faster model learning with almost identical accuracy."
   ]
  },
  {
   "cell_type": "code",
   "execution_count": 35,
   "metadata": {},
   "outputs": [
    {
     "name": "stderr",
     "output_type": "stream",
     "text": [
      "<ipython-input-2-305267500e90>:15: RuntimeWarning: divide by zero encountered in log\n",
      "  return (-y*np.log(pred)-(1-y)*np.log(1-pred)).mean()\n",
      "<ipython-input-2-305267500e90>:15: RuntimeWarning: invalid value encountered in multiply\n",
      "  return (-y*np.log(pred)-(1-y)*np.log(1-pred)).mean()\n"
     ]
    },
    {
     "name": "stdout",
     "output_type": "stream",
     "text": [
      "Epoch: 0, Learning_rate: 0.00012677806232409543, Loss : 3.6299369750051476\n",
      "Epoch: 1, Learning_rate: 6.342843369825826e-05, Loss : 1.1647269462996606\n",
      "Epoch: 2, Learning_rate: 4.229438584322317e-05, Loss : 5.466408460833713\n",
      "Epoch: 3, Learning_rate: 3.1724076670748495e-05, Loss : 3.9492718763470007\n",
      "Epoch: 4, Learning_rate: 2.538083949664719e-05, Loss : 1.1380658713358878\n",
      "Accuracy after tuning: 0.9009439899307741\n",
      "Accuracy before tuning:0.8976714915040906\n"
     ]
    }
   ],
   "source": [
    "log_reg = Logistic_Regression_SGD_momentum()\n",
    "log_reg.fit(X, y.ravel(), 5,1, learning_schedule = (5, 50), momentum_beta = 0.9)\n",
    "y_pred_3 = log_reg.predict(X_valid)\n",
    "accuracy_after_tuning = log_reg.evaluate(y_valid, y_pred_3)\n",
    "print(f'Accuracy after tuning: {accuracy_after_tuning}\\nAccuracy before tuning:{accuracy_before_tuning}')"
   ]
  },
  {
   "cell_type": "markdown",
   "metadata": {},
   "source": [
    "The increase in accuracy is random due to the new learning of the model. The model was learned faster."
   ]
  },
  {
   "cell_type": "markdown",
   "metadata": {},
   "source": [
    "Another way to increase accuracy is to scale the features."
   ]
  },
  {
   "cell_type": "code",
   "execution_count": 36,
   "metadata": {},
   "outputs": [
    {
     "data": {
      "text/plain": [
       "array([[3570,  350],\n",
       "       [ 437, 3588]], dtype=int64)"
      ]
     },
     "execution_count": 36,
     "metadata": {},
     "output_type": "execute_result"
    }
   ],
   "source": [
    "conf_mx = confusion_matrix(y_valid, y_pred_3)\n",
    "conf_mx"
   ]
  },
  {
   "cell_type": "code",
   "execution_count": 37,
   "metadata": {},
   "outputs": [
    {
     "name": "stdout",
     "output_type": "stream",
     "text": [
      "Precision: 0.911\n",
      "Recall: 0.891\n"
     ]
    }
   ],
   "source": [
    "precision = precision_score(y_valid, y_pred_3)\n",
    "recall = recall_score(y_valid, y_pred_3)\n",
    "\n",
    "print(f'Precision: {round(precision, 3)}\\nRecall: {round(recall, 3)}')"
   ]
  },
  {
   "cell_type": "code",
   "execution_count": 38,
   "metadata": {},
   "outputs": [
    {
     "data": {
      "image/png": "[encoded data removed]",
      "text/plain": [
       "<Figure size 1080x360 with 1 Axes>"
      ]
     },
     "metadata": {
      "needs_background": "light"
     },
     "output_type": "display_data"
    }
   ],
   "source": [
    "log_reg.loss_graph()"
   ]
  },
  {
   "cell_type": "code",
   "execution_count": 39,
   "metadata": {},
   "outputs": [],
   "source": [
    "def fast_digit_check():\n",
    "    number = random.randint(0, len(X_valid))\n",
    "    some_digit = X_valid[number]\n",
    "    some_digit_image = some_digit.reshape(28,28)\n",
    "    plt.figure(figsize=(5,5))\n",
    "    plt.imshow(some_digit_image, cmap = matplotlib.cm.binary, interpolation = 'nearest')\n",
    "    if y_valid[number] == 1:\n",
    "        graph_title = 'Prediction: Prime number'\n",
    "    else:\n",
    "        graph_title = 'Prediction: Composite number'\n",
    "    plt.title(graph_title)\n",
    "    plt.axis('off')\n",
    "    plt.show()"
   ]
  },
  {
   "cell_type": "markdown",
   "metadata": {},
   "source": [
    "# A few examples of how the model works"
   ]
  },
  {
   "cell_type": "code",
   "execution_count": 40,
   "metadata": {},
   "outputs": [
    {
     "data": {
      "image/png": "[encoded data removed]",
      "text/plain": [
       "<Figure size 360x360 with 1 Axes>"
      ]
     },
     "metadata": {
      "needs_background": "light"
     },
     "output_type": "display_data"
    }
   ],
   "source": [
    "fast_digit_check()"
   ]
  },
  {
   "cell_type": "code",
   "execution_count": 41,
   "metadata": {},
   "outputs": [
    {
     "data": {
      "image/png": "[encoded data removed]",
      "text/plain": [
       "<Figure size 360x360 with 1 Axes>"
      ]
     },
     "metadata": {
      "needs_background": "light"
     },
     "output_type": "display_data"
    }
   ],
   "source": [
    "fast_digit_check()"
   ]
  },
  {
   "cell_type": "code",
   "execution_count": 42,
   "metadata": {},
   "outputs": [
    {
     "data": {
      "image/png": "[encoded data removed]",
      "text/plain": [
       "<Figure size 360x360 with 1 Axes>"
      ]
     },
     "metadata": {
      "needs_background": "light"
     },
     "output_type": "display_data"
    }
   ],
   "source": [
    "fast_digit_check()"
   ]
  },
  {
   "cell_type": "code",
   "execution_count": 43,
   "metadata": {},
   "outputs": [
    {
     "data": {
      "image/png": "[encoded data removed]",
      "text/plain": [
       "<Figure size 360x360 with 1 Axes>"
      ]
     },
     "metadata": {
      "needs_background": "light"
     },
     "output_type": "display_data"
    }
   ],
   "source": [
    "fast_digit_check()"
   ]
  },
  {
   "cell_type": "code",
   "execution_count": 44,
   "metadata": {},
   "outputs": [
    {
     "data": {
      "image/png": "[encoded data removed]",
      "text/plain": [
       "<Figure size 360x360 with 1 Axes>"
      ]
     },
     "metadata": {
      "needs_background": "light"
     },
     "output_type": "display_data"
    }
   ],
   "source": [
    "fast_digit_check()"
   ]
  },
  {
   "cell_type": "code",
   "execution_count": 45,
   "metadata": {},
   "outputs": [
    {
     "data": {
      "image/png": "[encoded data removed]",
      "text/plain": [
       "<Figure size 360x360 with 1 Axes>"
      ]
     },
     "metadata": {
      "needs_background": "light"
     },
     "output_type": "display_data"
    }
   ],
   "source": [
    "fast_digit_check()"
   ]
  }
 ],
 "metadata": {
  "kernelspec": {
   "display_name": "Python 3",
   "language": "python",
   "name": "python3"
  },
  "language_info": {
   "codemirror_mode": {
    "name": "ipython",
    "version": 3
   },
   "file_extension": ".py",
   "mimetype": "text/x-python",
   "name": "python",
   "nbconvert_exporter": "python",
   "pygments_lexer": "ipython3",
   "version": "3.7.9"
  }
 },
 "nbformat": 4,
 "nbformat_minor": 2
}
